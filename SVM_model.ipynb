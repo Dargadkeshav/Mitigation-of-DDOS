{
 "cells": [
  {
   "cell_type": "code",
   "execution_count": 2,
   "id": "b0507e2b",
   "metadata": {},
   "outputs": [],
   "source": [
    "import numpy as np \n",
    "import pandas as pd \n",
    "from sklearn.model_selection import train_test_split\n",
    "from sklearn.preprocessing import StandardScaler\n",
    "from sklearn.svm import SVC\n",
    "from sklearn.metrics import confusion_matrix\n",
    "from sklearn.metrics import classification_report\n",
    "from joblib import dump,load\n",
    "import matplotlib.pyplot as plt"
   ]
  },
  {
   "cell_type": "markdown",
   "id": "b780dad7",
   "metadata": {},
   "source": [
    "#import necessay librabries\n"
   ]
  },
  {
   "cell_type": "code",
   "execution_count": 3,
   "id": "d02baeae",
   "metadata": {
    "scrolled": false
   },
   "outputs": [],
   "source": [
    "#importing dataset and splitting it into X and y [X:contains 5 features,y:contains the output i.e '1' or '0']\n",
    "df=pd.read_csv('Data.csv')\n",
    "df.head()\n",
    "X=df.iloc[:,[0, 1, 2, 3, 4]].values\n",
    "y=df.iloc[:, 5].values\n"
   ]
  },
  {
   "cell_type": "code",
   "execution_count": 4,
   "id": "77e0b269",
   "metadata": {
    "scrolled": true
   },
   "outputs": [],
   "source": [
    "X_train,X_test,y_train,y_test = train_test_split(X,y,test_size=0.25,random_state=0)\n"
   ]
  },
  {
   "cell_type": "code",
   "execution_count": 5,
   "id": "39876aaa",
   "metadata": {},
   "outputs": [],
   "source": [
    "#Features scaling the dataset\n",
    "sc=StandardScaler()\n",
    "X_train = sc.fit_transform(X_train)\n",
    "X_test = sc.transform(X_test)"
   ]
  },
  {
   "cell_type": "raw",
   "id": "02a4cdc0",
   "metadata": {},
   "source": [
    "# Fitting SVM to the Training set\n",
    "\n",
    "clf= SVC(kernel = 'linear', random_state = 0)\n",
    "clf.fit(X_train, y_train)\n",
    "\n"
   ]
  },
  {
   "cell_type": "code",
   "execution_count": 16,
   "id": "92ce3a17",
   "metadata": {},
   "outputs": [
    {
     "name": "stdout",
     "output_type": "stream",
     "text": [
      "[0]\n"
     ]
    }
   ],
   "source": [
    "#predicting the data\n",
    "y_predict=clf.predict(X_test)\n",
    "dataset=pd.read_csv('Live.csv')\n",
    "dataset\n",
    "result=clf.predict(dataset)\n",
    "print(result)\n",
    "\n"
   ]
  },
  {
   "cell_type": "code",
   "execution_count": 10,
   "id": "7fc07679",
   "metadata": {
    "scrolled": true
   },
   "outputs": [],
   "source": [
    "# Making the Confusion Matrix\n",
    "cm = confusion_matrix(y_test, y_predict)\n",
    "#cu=classification_report(y_test,y_predict)\n",
    "\n",
    "#print(cu)"
   ]
  },
  {
   "cell_type": "code",
   "execution_count": 9,
   "id": "9d5511fa",
   "metadata": {},
   "outputs": [
    {
     "data": {
      "text/plain": [
       "['final_SVM_model.sav']"
      ]
     },
     "execution_count": 9,
     "metadata": {},
     "output_type": "execute_result"
    }
   ],
   "source": [
    "#save the model for further use\n",
    "dump(clf,\"final_SVM_model.sav\")\n"
   ]
  },
  {
   "cell_type": "code",
   "execution_count": null,
   "id": "6e537e18",
   "metadata": {},
   "outputs": [],
   "source": []
  },
  {
   "cell_type": "code",
   "execution_count": null,
   "id": "f90bcab1",
   "metadata": {},
   "outputs": [],
   "source": []
  },
  {
   "cell_type": "code",
   "execution_count": null,
   "id": "a653cd7a",
   "metadata": {},
   "outputs": [],
   "source": []
  }
 ],
 "metadata": {
  "kernelspec": {
   "display_name": "Python 3",
   "language": "python",
   "name": "python3"
  },
  "language_info": {
   "codemirror_mode": {
    "name": "ipython",
    "version": 3
   },
   "file_extension": ".py",
   "mimetype": "text/x-python",
   "name": "python",
   "nbconvert_exporter": "python",
   "pygments_lexer": "ipython3",
   "version": "3.8.6"
  }
 },
 "nbformat": 4,
 "nbformat_minor": 5
}
